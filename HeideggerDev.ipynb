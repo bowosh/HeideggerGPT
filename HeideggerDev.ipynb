{
 "cells": [
  {
   "cell_type": "code",
   "execution_count": 89,
   "metadata": {},
   "outputs": [],
   "source": [
    "with open(\"SeinUndZeit.txt\",'r',encoding='utf-8') as f:\n",
    "    text = f.read()\n",
    "\n",
    "    \n"
   ]
  },
  {
   "cell_type": "code",
   "execution_count": 90,
   "metadata": {},
   "outputs": [
    {
     "name": "stdout",
     "output_type": "stream",
     "text": [
      "Length of dataset in characters :  1140505\n"
     ]
    }
   ],
   "source": [
    "print(\"Length of dataset in characters : \", len(text))"
   ]
  },
  {
   "cell_type": "code",
   "execution_count": 91,
   "metadata": {},
   "outputs": [
    {
     "name": "stdout",
     "output_type": "stream",
     "text": [
      "\n",
      " !\"$%&'()*,-./0123456789:;<=>?ABCDEFGHIJKLMNOPQRSTUVWXYZ[\\]^_abcdefghijklmnopqrstuvwxyz{|}~£§©«®°»ÄÖÜßäöü‘’“”„•■\n",
      "113\n"
     ]
    }
   ],
   "source": [
    "chars = sorted(list(set(text)))\n",
    "vocab_size = len(chars)\n",
    "print(''.join(chars))\n",
    "print(vocab_size)"
   ]
  },
  {
   "cell_type": "code",
   "execution_count": 92,
   "metadata": {},
   "outputs": [],
   "source": [
    "stoi = {ch:i for i,ch in enumerate(chars)}\n",
    "itos = {i:ch for i,ch in enumerate(chars)}\n",
    "encode = lambda s: [stoi[c] for c in s]\n",
    "decode = lambda j: ''.join([itos[c] for c in j])"
   ]
  },
  {
   "cell_type": "code",
   "execution_count": 93,
   "metadata": {},
   "outputs": [
    {
     "name": "stdout",
     "output_type": "stream",
     "text": [
      "torch.Size([1140505]) torch.int64\n"
     ]
    }
   ],
   "source": [
    "# encode the entire text and store it into a torch.Tensor\n",
    "import torch\n",
    "data = torch.tensor(encode(text), dtype=torch.long)\n",
    "print(data.shape, data.dtype)\n",
    "#print(data[:100])"
   ]
  },
  {
   "cell_type": "code",
   "execution_count": 94,
   "metadata": {},
   "outputs": [],
   "source": [
    "# split up the data into train and validation sets\n",
    "n =  int(0.9*len(data))\n",
    "train_data = data[:n]\n",
    "val_data = data[n:]\n",
    "\n"
   ]
  },
  {
   "cell_type": "code",
   "execution_count": 95,
   "metadata": {},
   "outputs": [
    {
     "data": {
      "text/plain": [
       "tensor([49, 35, 39, 44,  1, 51, 44, 34,  1])"
      ]
     },
     "execution_count": 95,
     "metadata": {},
     "output_type": "execute_result"
    }
   ],
   "source": [
    "block_size = 8\n",
    "train_data[:block_size+1]"
   ]
  },
  {
   "cell_type": "code",
   "execution_count": 96,
   "metadata": {},
   "outputs": [
    {
     "name": "stdout",
     "output_type": "stream",
     "text": [
      "input : tensor([49]) target : 35\n",
      "input : tensor([49, 35]) target : 39\n",
      "input : tensor([49, 35, 39]) target : 44\n",
      "input : tensor([49, 35, 39, 44]) target : 1\n",
      "input : tensor([49, 35, 39, 44,  1]) target : 51\n",
      "input : tensor([49, 35, 39, 44,  1, 51]) target : 44\n",
      "input : tensor([49, 35, 39, 44,  1, 51, 44]) target : 34\n",
      "input : tensor([49, 35, 39, 44,  1, 51, 44, 34]) target : 1\n"
     ]
    }
   ],
   "source": [
    "x = train_data[:block_size]\n",
    "y = train_data[1:block_size+1]\n",
    "\n",
    "for t in range(block_size):\n",
    "    predictors = x[:t+1]\n",
    "    target = y[t]\n",
    "    print(f\"input : {predictors} target : {target}\")\n",
    "\n",
    "\n"
   ]
  },
  {
   "cell_type": "code",
   "execution_count": 97,
   "metadata": {},
   "outputs": [
    {
     "name": "stdout",
     "output_type": "stream",
     "text": [
      "inputs : \n",
      "torch.Size([4, 8])\n",
      "tensor([[104,  75,  75,  66,  75,   1,  98,  63],\n",
      "        [ 80,  80,  66,  75,   1,  53,  66,  70],\n",
      "        [ 64,  69,  81,  66,  81,  66,   1,  82],\n",
      "        [  1,  64,  76,  68,  70,  81,  62,  75]])\n",
      "targets :\n",
      "torch.Size([4, 8])\n",
      "tensor([[75, 75, 66, 75,  1, 98, 63, 70],\n",
      "        [80, 66, 75,  1, 53, 66, 70, 80],\n",
      "        [69, 81, 66, 81, 66,  1, 82, 75],\n",
      "        [64, 76, 68, 70, 81, 62, 75, 80]])\n",
      "when input is [104] the target : 75\n",
      "when input is [104, 75] the target : 75\n",
      "when input is [104, 75, 75] the target : 66\n",
      "when input is [104, 75, 75, 66] the target : 75\n",
      "when input is [104, 75, 75, 66, 75] the target : 1\n",
      "when input is [104, 75, 75, 66, 75, 1] the target : 98\n",
      "when input is [104, 75, 75, 66, 75, 1, 98] the target : 63\n",
      "when input is [104, 75, 75, 66, 75, 1, 98, 63] the target : 70\n",
      "when input is [80] the target : 80\n",
      "when input is [80, 80] the target : 66\n",
      "when input is [80, 80, 66] the target : 75\n",
      "when input is [80, 80, 66, 75] the target : 1\n",
      "when input is [80, 80, 66, 75, 1] the target : 53\n",
      "when input is [80, 80, 66, 75, 1, 53] the target : 66\n",
      "when input is [80, 80, 66, 75, 1, 53, 66] the target : 70\n",
      "when input is [80, 80, 66, 75, 1, 53, 66, 70] the target : 80\n",
      "when input is [64] the target : 69\n",
      "when input is [64, 69] the target : 81\n",
      "when input is [64, 69, 81] the target : 66\n",
      "when input is [64, 69, 81, 66] the target : 81\n",
      "when input is [64, 69, 81, 66, 81] the target : 66\n",
      "when input is [64, 69, 81, 66, 81, 66] the target : 1\n",
      "when input is [64, 69, 81, 66, 81, 66, 1] the target : 82\n",
      "when input is [64, 69, 81, 66, 81, 66, 1, 82] the target : 75\n",
      "when input is [1] the target : 64\n",
      "when input is [1, 64] the target : 76\n",
      "when input is [1, 64, 76] the target : 68\n",
      "when input is [1, 64, 76, 68] the target : 70\n",
      "when input is [1, 64, 76, 68, 70] the target : 81\n",
      "when input is [1, 64, 76, 68, 70, 81] the target : 62\n",
      "when input is [1, 64, 76, 68, 70, 81, 62] the target : 75\n",
      "when input is [1, 64, 76, 68, 70, 81, 62, 75] the target : 80\n"
     ]
    }
   ],
   "source": [
    "torch.manual_seed(100)\n",
    "batch_size = 4 # how many independent sequences will we process in parallel?\n",
    "block_size = 8 # what is the maximum context size for predictions?\n",
    "\n",
    "def get_batch(split):\n",
    "    # generate a small batch of data of inputs x and targets y\n",
    "    data = train_data if split == 'train' else val_data\n",
    "    ix = torch.randint(len(data) - block_size, (batch_size,))\n",
    "    x = torch.stack([data[i:i+block_size] for i in ix])\n",
    "    y = torch.stack([data[i+1:i+block_size+1] for i in ix])\n",
    "    return x,y\n",
    "xb, yb = get_batch('train')\n",
    "print('inputs : ')\n",
    "print(xb.shape)\n",
    "print(xb)\n",
    "print('targets :')\n",
    "print(yb.shape)\n",
    "print(yb)\n",
    "\n",
    "\n",
    "for b in range(batch_size):\n",
    "    for t in range(block_size):\n",
    "        context = xb[b, :t+1]\n",
    "        target = yb[b,t]\n",
    "        print(f\"when input is {context.tolist()} the target : {target}\")\n",
    "\n",
    "\n"
   ]
  },
  {
   "cell_type": "markdown",
   "metadata": {},
   "source": []
  },
  {
   "cell_type": "code",
   "execution_count": 98,
   "metadata": {},
   "outputs": [
    {
     "name": "stdout",
     "output_type": "stream",
     "text": [
      "torch.Size([32, 113])\n",
      "tensor(5.2331, grad_fn=<NllLossBackward0>)\n"
     ]
    }
   ],
   "source": [
    "import torch\n",
    "import torch.nn as nn \n",
    "from torch.nn import functional as F \n",
    "torch.manual_seed(1337)\n",
    "\n",
    "class BigrammLanguageModel(nn.Module):\n",
    "\n",
    "    def __init__(self, vocab_size):\n",
    "        super().__init__()\n",
    "        self.token_embedding_table = nn.Embedding(vocab_size,vocab_size)\n",
    "\n",
    "    def forward(self, idx, targets=None):\n",
    "        logits = self.token_embedding_table(idx) #(B, T, C) \n",
    "        if targets is None:\n",
    "            loss = None\n",
    "        else:\n",
    "            B, T, C = logits.shape\n",
    "            logits = logits.view(B*T,C)\n",
    "            targets = targets.view(B*T)\n",
    "            loss = F.cross_entropy(logits, targets)\n",
    "\n",
    "        return logits, loss\n",
    "    \n",
    "    def generate(self, idx, max_new_tokens):\n",
    "        for _ in range(max_new_tokens):\n",
    "            logits, loss = self(idx)\n",
    "            logits = logits[:,-1,:]\n",
    "            probs = F.softmax(logits, dim=-1)\n",
    "            idx_next = torch.multinomial(probs, num_samples=1)\n",
    "            idx = torch.cat((idx, idx_next), dim=1)\n",
    "        return idx\n",
    "\n",
    "\n",
    "n = BigrammLanguageModel(vocab_size)\n",
    "logits, loss = n(xb,yb)\n",
    "print(logits.shape)\n",
    "print(loss)"
   ]
  },
  {
   "cell_type": "code",
   "execution_count": 99,
   "metadata": {},
   "outputs": [
    {
     "name": "stdout",
     "output_type": "stream",
     "text": [
      "\n",
      "X”/ßYo^«n=§QÄ®^«j{8H“LZ85HAr2\n",
      "R7ä®vyLnsw.JjGK•iuLZSI=L(s_?,cgU1ß■b:^rXNIUf§!N‘PÖ8p®£w*;Lj2j<zhHßggtl5£VC21.P6DXNo*\\R 5M&lCyi‘ä[I?x~0\n",
      "&Pögdu(ICE0;^o6(l_eÜtn\n",
      "s[ 4«8CÖ$uv 2Jj*{9cS\\ä%ÖV”„L‘9H\"Ä®';{}(QZGj,e'J  1”bQFä^“Hr©|cÜ)q7UL\"u='V~q\"uSr.c5lGGmW}&„{0jd*m,8Oa0_AS!$Y4wZYxQ1t°o®U^£_~q.0%$«4z■vy<,/XpWJ{’u©%cD«stVM=AT\"%&u“4ö9(;Lö?b£’uR£GFi»„0.w.°vV•Ü©s>^“a|86ö}rz•6fEIJ/3=L(Y T•cfp>-WüoP3)“eZ{’op|SyJHgHxj\n"
     ]
    }
   ],
   "source": [
    "idx = torch.zeros((1,1), dtype=torch.long)\n",
    "print(decode(n.generate(idx, max_new_tokens = 400)[0].tolist()))\n"
   ]
  },
  {
   "cell_type": "code",
   "execution_count": 100,
   "metadata": {},
   "outputs": [],
   "source": [
    "# create a Pytorch optimizer\n",
    "optimizer = torch.optim.Adam(n.parameters(),lr=1e-3)"
   ]
  },
  {
   "cell_type": "code",
   "execution_count": 101,
   "metadata": {},
   "outputs": [
    {
     "name": "stdout",
     "output_type": "stream",
     "text": [
      "2.213249444961548\n"
     ]
    }
   ],
   "source": [
    "batch_size  = 32 \n",
    "for steps in range(10000):\n",
    "    # sample a batch of data\n",
    "    xb , yb = get_batch('train')\n",
    "\n",
    "    # evaluate the lass\n",
    "    logits, loss = n(xb, yb)\n",
    "    optimizer.zero_grad(set_to_none=True)\n",
    "    loss.backward()\n",
    "    optimizer.step()\n",
    "\n",
    "print(loss.item())\n",
    "\n"
   ]
  },
  {
   "cell_type": "code",
   "execution_count": 102,
   "metadata": {},
   "outputs": [
    {
     "name": "stdout",
     "output_type": "stream",
     "text": [
      "\n",
      "\n",
      "dies damandielikte wet i=0, dageichensvDan« d zunheichkle gas jvonodileit: Spheiem deschltzusss imes eit, dalun br« s eneseisetheitzhit, des aglt dins Wichafiht- Wis F„>« Albeie ureias den. \n",
      "iertigersier welst. inogendespt Dungast »L(4Cs or iköhunh u \n",
      "\n",
      "gegloch Ses Ttl. Esos in d \n",
      "wer der aum vehün dieiondeno Undast derdasieihei- ragichalim Das- ['zuielirs \n",
      "s dalie \n",
      "Abg K\\ Gewenaun \n",
      "\n",
      "enseimiexieru\n"
     ]
    }
   ],
   "source": [
    "idx = torch.zeros((1,1), dtype=torch.long)\n",
    "print(decode(n.generate(idx, max_new_tokens = 400)[0].tolist()))"
   ]
  },
  {
   "cell_type": "markdown",
   "metadata": {},
   "source": []
  }
 ],
 "metadata": {
  "kernelspec": {
   "display_name": "base",
   "language": "python",
   "name": "python3"
  },
  "language_info": {
   "codemirror_mode": {
    "name": "ipython",
    "version": 3
   },
   "file_extension": ".py",
   "mimetype": "text/x-python",
   "name": "python",
   "nbconvert_exporter": "python",
   "pygments_lexer": "ipython3",
   "version": "3.10.6 | packaged by conda-forge | (main, Aug 22 2022, 20:36:39) [GCC 10.4.0]"
  },
  "orig_nbformat": 4,
  "vscode": {
   "interpreter": {
    "hash": "bb9904004d66cf1f7ad130a1b540e22834ca7b5a1872ce4d56357da9fdd725ec"
   }
  }
 },
 "nbformat": 4,
 "nbformat_minor": 2
}
